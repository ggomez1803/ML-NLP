{
 "cells": [
  {
   "cell_type": "markdown",
   "metadata": {},
   "source": [
    "![image info](https://raw.githubusercontent.com/albahnsen/MIAD_ML_and_NLP/main/images/banner_1.png)"
   ]
  },
  {
   "cell_type": "markdown",
   "metadata": {},
   "source": [
    "# Taller: Tokenización de textos  \n",
    "\n",
    "En este taller podrán poner en práctica sus conocimientos sobre preprocesamiento de texto (tokenización). El taller está constituido por 5 puntos, en los cuales deberan seguir las intrucciones de cada numeral para su desarrollo."
   ]
  },
  {
   "cell_type": "markdown",
   "metadata": {},
   "source": [
    "## Datos detección de toxicidad en comentarios\n",
    "\n",
    "En este taller se usará el conjunto de datos de detección de toxicidad en comentarios de la base de datos de Kaggle. Cada observación es un comentario que tiene como variable objetivo (target) la probabilidad de ser un comentario tóxico. El objetivo es predecir la toxicidad de cada comentario. Para más detalles pueden visitar el siguiente enlace: [datos](https://www.kaggle.com/c/jigsaw-unintended-bias-in-toxicity-classification/data)."
   ]
  },
  {
   "cell_type": "code",
   "execution_count": 3,
   "metadata": {},
   "outputs": [],
   "source": [
    "import warnings\n",
    "warnings.filterwarnings('ignore')"
   ]
  },
  {
   "cell_type": "code",
   "execution_count": 4,
   "metadata": {},
   "outputs": [],
   "source": [
    "# Importación librerías\n",
    "import pandas as pd\n",
    "import numpy as np\n",
    "import scipy as sp\n",
    "from sklearn.model_selection import train_test_split, cross_val_score\n",
    "from sklearn.feature_extraction.text import CountVectorizer, TfidfVectorizer\n",
    "from sklearn import metrics\n",
    "%matplotlib inline"
   ]
  },
  {
   "cell_type": "code",
   "execution_count": 5,
   "metadata": {},
   "outputs": [
    {
     "data": {
      "text/html": [
       "<div>\n",
       "<style scoped>\n",
       "    .dataframe tbody tr th:only-of-type {\n",
       "        vertical-align: middle;\n",
       "    }\n",
       "\n",
       "    .dataframe tbody tr th {\n",
       "        vertical-align: top;\n",
       "    }\n",
       "\n",
       "    .dataframe thead th {\n",
       "        text-align: right;\n",
       "    }\n",
       "</style>\n",
       "<table border=\"1\" class=\"dataframe\">\n",
       "  <thead>\n",
       "    <tr style=\"text-align: right;\">\n",
       "      <th></th>\n",
       "      <th>id</th>\n",
       "      <th>comment_text</th>\n",
       "      <th>target</th>\n",
       "    </tr>\n",
       "  </thead>\n",
       "  <tbody>\n",
       "    <tr>\n",
       "      <th>0</th>\n",
       "      <td>6101457</td>\n",
       "      <td>What are you talking about? What group do Pete...</td>\n",
       "      <td>0.0</td>\n",
       "    </tr>\n",
       "    <tr>\n",
       "      <th>1</th>\n",
       "      <td>5342103</td>\n",
       "      <td>NO!, Let him, we need a Conservative government.</td>\n",
       "      <td>0.0</td>\n",
       "    </tr>\n",
       "    <tr>\n",
       "      <th>2</th>\n",
       "      <td>743361</td>\n",
       "      <td>Perhaps he took the \"power out of the Cardinal...</td>\n",
       "      <td>0.2</td>\n",
       "    </tr>\n",
       "    <tr>\n",
       "      <th>3</th>\n",
       "      <td>551008</td>\n",
       "      <td>As always, yours is dripping with sarcasm, whi...</td>\n",
       "      <td>0.0</td>\n",
       "    </tr>\n",
       "    <tr>\n",
       "      <th>4</th>\n",
       "      <td>865998</td>\n",
       "      <td>The dirty little secret is that the price rang...</td>\n",
       "      <td>0.3</td>\n",
       "    </tr>\n",
       "  </tbody>\n",
       "</table>\n",
       "</div>"
      ],
      "text/plain": [
       "        id                                       comment_text  target\n",
       "0  6101457  What are you talking about? What group do Pete...     0.0\n",
       "1  5342103   NO!, Let him, we need a Conservative government.     0.0\n",
       "2   743361  Perhaps he took the \"power out of the Cardinal...     0.2\n",
       "3   551008  As always, yours is dripping with sarcasm, whi...     0.0\n",
       "4   865998  The dirty little secret is that the price rang...     0.3"
      ]
     },
     "execution_count": 5,
     "metadata": {},
     "output_type": "execute_result"
    }
   ],
   "source": [
    "# Carga de datos de archivos .csv\n",
    "df = pd.read_csv('https://raw.githubusercontent.com/albahnsen/MIAD_ML_and_NLP/main/datasets/Toxicity.zip')\n",
    "df = df[['id','comment_text', 'target']]\n",
    "df.head()"
   ]
  },
  {
   "cell_type": "code",
   "execution_count": 6,
   "metadata": {},
   "outputs": [
    {
     "data": {
      "text/plain": [
       "<Axes: >"
      ]
     },
     "execution_count": 6,
     "metadata": {},
     "output_type": "execute_result"
    },
    {
     "data": {
      "image/png": "[encoded data removed]",
      "text/plain": [
       "<Figure size 640x480 with 1 Axes>"
      ]
     },
     "metadata": {},
     "output_type": "display_data"
    }
   ],
   "source": [
    "# Impresión histograma de variable de interés (y)\n",
    "df.target.hist()"
   ]
  },
  {
   "cell_type": "code",
   "execution_count": 7,
   "metadata": {},
   "outputs": [
    {
     "data": {
      "text/plain": [
       "count    541462.000000\n",
       "mean          0.102991\n",
       "std           0.196979\n",
       "min           0.000000\n",
       "25%           0.000000\n",
       "50%           0.000000\n",
       "75%           0.166667\n",
       "max           1.000000\n",
       "Name: target, dtype: float64"
      ]
     },
     "execution_count": 7,
     "metadata": {},
     "output_type": "execute_result"
    }
   ],
   "source": [
    "# Separación de variable de interés (y)\n",
    "y = df.target\n",
    "y.describe()"
   ]
  },
  {
   "cell_type": "code",
   "execution_count": 8,
   "metadata": {},
   "outputs": [],
   "source": [
    "# Separación de variables predictoras (X), solo se considera el texto de la noticia\n",
    "X = df.comment_text"
   ]
  },
  {
   "cell_type": "code",
   "execution_count": 9,
   "metadata": {},
   "outputs": [],
   "source": [
    "# Separación de datos en set de entrenamiento y test\n",
    "X_train, X_test, y_train, y_test = train_test_split(X, y, test_size=0.33, random_state=42)"
   ]
  },
  {
   "cell_type": "markdown",
   "metadata": {},
   "source": [
    "## Punto 1 - Tokenización con CountVectorizer\n",
    "\n",
    "En la celda 1 creen y entrenen el modelo de regresión de su preferencia, para que prediga la probabilidad de que un comentario sea tóxico, usando los set de entrenamiento y test definidos anteriormente. Usen la función **CountVectorizer** para preprocesar los comentarios y presenten el desempeño del modelo con la métrica del MSE.\n",
    "\n",
    "Recuerden que el preprocesamiento que se haga sobre los datos de entrenamiento  (*.fit_transform()*) deben ser aplicado al set de test (*.transform()*)."
   ]
  },
  {
   "cell_type": "code",
   "execution_count": 34,
   "metadata": {},
   "outputs": [
    {
     "name": "stdout",
     "output_type": "stream",
     "text": [
      "MSE: 0.030588852665764596\n"
     ]
    }
   ],
   "source": [
    "# Celda 1\n",
    "vect_1 = CountVectorizer()\n",
    "X_dtm_train = vect_1.fit_transform(X_train)\n",
    "X_dtm_test = vect_1.transform(X_test)\n",
    "\n",
    "from sklearn.ensemble import RandomForestRegressor\n",
    "from sklearn.metrics import mean_squared_error\n",
    "from sklearn.metrics import r2_score\n",
    "\n",
    "rf = RandomForestRegressor(n_estimators=100, max_depth=10, random_state=42, n_jobs=-1)\n",
    "rf.fit(X_dtm_train, y_train)\n",
    "y_pred = rf.predict(X_dtm_test)\n",
    "mse1 = mean_squared_error(y_test, y_pred)\n",
    "\n",
    "print(\"MSE:\", mse1)"
   ]
  },
  {
   "attachments": {},
   "cell_type": "markdown",
   "metadata": {},
   "source": [
    "1. Se importa la biblioteca de sklearn y los módulos CountVectorizer, RandomForestRegressor y mean_squared_error.\n",
    "2. Se instancia el objeto CountVectorizer llamado vect_1.\n",
    "3. Se aplica el método fit_transform del objeto vect_1 al conjunto de entrenamiento X_train y se guarda el resultado en la variable X_dtm_train. El método fit_transform realiza una doble operación: ajusta el modelo al conjunto de entrenamiento y luego lo transforma en una matriz de términos de documento (DTM).\n",
    "4. Se aplica el método transform del objeto vect_1 al conjunto de prueba X_test y se guarda el resultado en la variable X_dtm_test. El método transform transforma el conjunto de prueba en una matriz DTM utilizando el vocabulario aprendido del conjunto de entrenamiento.\n",
    "5. Se instancia un modelo de bosque aleatorio (RandomForestRegressor) llamado rf con los siguientes hiperparámetros:\n",
    "\n",
    "    * n_estimators=100: número de árboles que se van a utilizar en el modelo.\n",
    "    * max_depth=10: profundidad máxima de cada árbol.\n",
    "    * random_state=42: semilla aleatoria para reproducir los mismos resultados en cada ejecución.\n",
    "    \n",
    "6. Se entrena el modelo rf en el conjunto de entrenamiento (X_dtm_train e y_train) utilizando el método fit.\n",
    "7. Se usan los datos de prueba (X_dtm_test) para hacer predicciones utilizando el método predict, y se guarda el resultado en la variable y_pred.\n",
    "8. Se calcula el error cuadrático medio (MSE) entre las predicciones del modelo (y_pred) y los valores reales (y_test) utilizando el método mean_squared_error.\n",
    "9. Se imprime el valor de MSE.\n",
    "\n",
    "Dado que la variable objetivo tiene una escala de 0 a 1 y en promedio es 0.1, podemos decir que el MSE obtenido de 0.030 es relativamente bajo y sugiere que el modelo tiene una buena capacidad predictiva. En general, el valor de MSE se interpreta en función de la escala de la variable objetivo. En este caso, como la variable objetivo está en una escala de 0 a 1, podemos decir que el valor de MSE indica que el modelo tiene una precisión media en las predicciones."
   ]
  },
  {
   "cell_type": "markdown",
   "metadata": {},
   "source": [
    "## Punto 2 - Tokenización con CountVectorizer y trigramas\n",
    "\n",
    "En la celda 2 creen y entrenen el mismo modelo de regresión del punto anterior (es decir si usaron un RandomForestRegresor usen nuevamente ese regresor), para que prediga la probabilidad de que un comentario sea tóxico, usando los set de entrenamiento y test definidos anteriormente. Usen la función CountVectorizer **considerando trigramas** para preprocesar los comentarios y presenten el desempeño del modelo con la métrica del MSE.\n",
    "\n",
    "Recuerden que el preprocesamiento que se haga sobre los datos de entrenamiento  (*.fit_transform()*) deben ser aplicado al set de test (*.transform()*)."
   ]
  },
  {
   "cell_type": "code",
   "execution_count": 16,
   "metadata": {},
   "outputs": [
    {
     "name": "stdout",
     "output_type": "stream",
     "text": [
      "MSE: 0.03365998271336242\n"
     ]
    }
   ],
   "source": [
    "# Celda 2\n",
    "from sklearn.ensemble import RandomForestRegressor\n",
    "from sklearn.metrics import mean_squared_error\n",
    "\n",
    "vect_2 = CountVectorizer(lowercase=False, ngram_range=(1, 3), stop_words='english')\n",
    "X_trigrama_train = vect_2.fit_transform(X_train)\n",
    "X_trigrama_test = vect_2.transform(X_test)\n",
    "\n",
    "rf = RandomForestRegressor(n_estimators=50, max_depth=5, random_state=42, n_jobs=-1)\n",
    "rf.fit(X_trigrama_train, y_train)\n",
    "y_pred = rf.predict(X_trigrama_test)\n",
    "mse = mean_squared_error(y_test, y_pred)\n",
    "\n",
    "# Imprimir el valor del MSE\n",
    "print(\"MSE:\", mse)"
   ]
  },
  {
   "attachments": {},
   "cell_type": "markdown",
   "metadata": {},
   "source": [
    "1. En la primera línea de código se instancia un objeto de la clase CountVectorizer que se utilizará para preprocesar el texto de los comentarios. En este caso la opción ngram_range=(1, 3) establece los trigramas requeridos.\n",
    "\n",
    "2. Luego, se cambian los parametros para ahorro de computacion y se utiliza el método fit_transform del objeto CountVectorizer para transformar los datos de entrenamiento X_train en una matriz dispersa X_trigrama_train que representa la frecuencia de los trigramas (secuencias de tres palabras consecutivas) en cada comentario. \n",
    "\n",
    "3. A continuación, se utiliza el método transform del objeto CountVectorizer para transformar los datos de prueba X_test en una matriz dispersa X_trigrama_test utilizando el mismo vocabulario aprendido en los datos de entrenamiento.\n",
    "\n",
    "4. Se importa la clase RandomForestRegressor del módulo ensemble de la biblioteca Scikit-Learn.\n",
    "\n",
    "5. Luego, se instancia un objeto de la clase RandomForestRegressor con los siguientes parámetros:\n",
    "    * n_estimators=100: número de árboles que se van a utilizar en el modelo.\n",
    "    * max_depth=10: profundidad máxima de cada árbol.\n",
    "    * random_state=42: semilla aleatoria para reproducir los mismos resultados en cada ejecución.\n",
    "\n",
    "6. A continuación, se utiliza el método fit del objeto RandomForestRegressor para ajustar el modelo a los datos de entrenamiento X_trigrama_train y y_train.\n",
    "\n",
    "7. Luego, se utiliza el método predict del objeto RandomForestRegressor para predecir las etiquetas de toxicidad para los datos de prueba X_trigrama_test.\n",
    "\n",
    "8. Se utiliza la función mean_squared_error del módulo metrics de Scikit-Learn para calcular el error cuadrático medio (MSE) entre las etiquetas verdaderas de toxicidad y las etiquetas predichas por el modelo.\n",
    "\n",
    "9. Finalmente, se imprime el valor del MSE.\n",
    "\n",
    "El valor de el MSE fue 0.03365998271336242 superior al obtenido en el caso inicial, por lo que no se mejoró el resultado del primer modelo."
   ]
  },
  {
   "cell_type": "markdown",
   "metadata": {},
   "source": [
    "## Punto 3 - TfidfVectorizer\n",
    "\n",
    "Investigen sobre la función TfidfVectorizer. En la celda de texto 3, expliquen en qué consiste esta técnica de tokenización (describanla y expliquen su funcionamiento) y cúales son las ventajas o deventajas de su uso al compararlo con la función CountVectorizer."
   ]
  },
  {
   "attachments": {},
   "cell_type": "markdown",
   "metadata": {},
   "source": [
    "La técnica de tokenización TfidfVectorizer es una herramienta que se utiliza en la minería de textos y el procesamiento del lenguaje natural. Esta técnica es una variante de la técnica CountVectorizer que asigna valores numéricos a las palabras de un documento, lo que permite una representación vectorial del mismo.\n",
    "\n",
    "La técnica TfidfVectorizer se basa en la frecuencia de términos inversa de documentos (TF-IDF, por sus siglas en inglés). La frecuencia de términos (TF) mide la frecuencia de una palabra en un documento específico. Por otro lado, la frecuencia inversa de documentos (IDF) mide la importancia de una palabra en relación con el conjunto de documentos.\n",
    "\n",
    "El TfidfVectorizer utiliza estas dos medidas para determinar la importancia de cada palabra en un documento. Por lo tanto, las palabras que aparecen con frecuencia en un documento, pero raramente en otros documentos, tendrán un valor de TF-IDF alto, lo que indica que son importantes para el documento en cuestión.\n",
    "\n",
    "Las ventajas del uso de TfidfVectorizer en comparación con CountVectorizer son:\n",
    "\n",
    "Mejora la precisión en la identificación de palabras importantes en un documento, ya que considera tanto la frecuencia de la palabra en el documento como la frecuencia inversa de documentos en todo el conjunto de documentos.\n",
    "\n",
    "Ayuda a eliminar palabras comunes que no aportan información relevante al documento, como artículos y preposiciones, lo que conduce a una mejor calidad de las características utilizadas para el análisis.\n",
    "\n",
    "Permite comparar documentos de diferente longitud, ya que tiene en cuenta la frecuencia de aparición de cada palabra en relación con el conjunto de documentos.\n",
    "\n",
    "Por otro lado, las desventajas de TfidfVectorizer son:\n",
    "\n",
    "Puede ser más lento que CountVectorizer en la tokenización y vectorización de grandes conjuntos de documentos debido a que requiere un mayor procesamiento.\n",
    "\n",
    "En algunos casos, puede tener dificultades para manejar documentos con términos muy específicos y únicos, ya que el IDF de estas palabras puede ser muy alto, lo que puede reducir la importancia de otras palabras en el documento.\n",
    "\n",
    "En resumen, TfidfVectorizer es una técnica de tokenización que utiliza la frecuencia de términos inversa de documentos para asignar valores numéricos a las palabras en un documento. Esta técnica puede mejorar la precisión en la identificación de palabras importantes en un documento y puede eliminar palabras comunes, lo que conduce a una mejor calidad de las características utilizadas para el análisis. Sin embargo, también puede ser más lento y puede tener dificultades para manejar documentos con términos muy específicos y únicos."
   ]
  },
  {
   "cell_type": "markdown",
   "metadata": {},
   "source": [
    "## Punto 4 - Tokenización con TfidfVectorizer\n",
    "\n",
    "En la celda 4 creen y entrenen el mismo modelo de regresión del primer punto, para que prediga la probabilidad de que un comentario sea tóxico, usando los set de entrenamiento y test definidos anteriormente. Procesen los comentarios con la función **TfidfVectorizer** y presenten el desempeño del modelo con la métrica del MSE.\n",
    "\n",
    "Recuerden que el preprocesamiento que se haga sobre los datos de entrenamiento  (*.fit_transform()*) deben ser aplicado al set de test (*.transform()*)."
   ]
  },
  {
   "cell_type": "code",
   "execution_count": 15,
   "metadata": {},
   "outputs": [
    {
     "name": "stdout",
     "output_type": "stream",
     "text": [
      "MSE: 0.030556492277728196\n"
     ]
    }
   ],
   "source": [
    "# Celda 4\n",
    "from sklearn.ensemble import RandomForestRegressor\n",
    "from sklearn.metrics import mean_squared_error\n",
    "from sklearn.feature_extraction.text import TfidfVectorizer\n",
    "\n",
    "# Procesar los datos de texto con TfidfVectorizer\n",
    "vectorizer = TfidfVectorizer(stop_words='english')\n",
    "X_dtm_train = vectorizer.fit_transform(X_train)\n",
    "X_dtm_test = vectorizer.transform(X_test)\n",
    "\n",
    "# Entrenar el modelo de regresión aleatoria forestal\n",
    "rf = RandomForestRegressor(n_estimators=100, max_depth=10, random_state=42, n_jobs=-1)\n",
    "\n",
    "rf.fit(X_dtm_train, y_train)\n",
    "\n",
    "# Predecir las probabilidades de toxicidad en el conjunto de prueba\n",
    "y_pred = rf.predict(X_dtm_test)\n",
    "\n",
    "# Calcular el error cuadrático medio (MSE)\n",
    "msetfid = mean_squared_error(y_test, y_pred)\n",
    "print(\"MSE:\", msetfid)"
   ]
  },
  {
   "attachments": {},
   "cell_type": "markdown",
   "metadata": {},
   "source": [
    "En este código, primero cargamos el conjunto de datos y seleccionamos las columnas 'id', 'comment_text' y 'target'. Luego dividimos los datos en conjuntos de entrenamiento y prueba.\n",
    "\n",
    "Luego procesamos los datos de texto utilizando TfidfVectorizer, que convierte los documentos de texto en vectores numéricos que pueden ser utilizados como entrada para un modelo de aprendizaje automático.\n",
    "\n",
    "A continuación, entrenamos un modelo de RandomForest en los datos de entrenamiento, y utilizamos el modelo para predecir las probabilidades de toxicidad en el conjunto de prueba.\n",
    "\n",
    "Finalmente, calculamos el error cuadrático medio (MSE) para evaluar el rendimiento del modelo, el cual termino siendo 0.030556492277728196."
   ]
  },
  {
   "cell_type": "markdown",
   "metadata": {},
   "source": [
    "## Punto 5 - Comparación y análisis de resultados\n",
    "\n",
    "En la celda 5 comparen los resultados obtenidos de los diferentes modelos y comenten cómo el preprocesamiento de texto afecta el desempeño."
   ]
  },
  {
   "cell_type": "code",
   "execution_count": 40,
   "metadata": {},
   "outputs": [
    {
     "data": {
      "image/png": "[encoded data removed]",
      "text/plain": [
       "<Figure size 640x480 with 1 Axes>"
      ]
     },
     "metadata": {},
     "output_type": "display_data"
    },
    {
     "data": {
      "text/html": [
       "<div>\n",
       "<style scoped>\n",
       "    .dataframe tbody tr th:only-of-type {\n",
       "        vertical-align: middle;\n",
       "    }\n",
       "\n",
       "    .dataframe tbody tr th {\n",
       "        vertical-align: top;\n",
       "    }\n",
       "\n",
       "    .dataframe thead th {\n",
       "        text-align: right;\n",
       "    }\n",
       "</style>\n",
       "<table border=\"1\" class=\"dataframe\">\n",
       "  <thead>\n",
       "    <tr style=\"text-align: right;\">\n",
       "      <th></th>\n",
       "      <th>Modelo</th>\n",
       "      <th>MSE</th>\n",
       "    </tr>\n",
       "  </thead>\n",
       "  <tbody>\n",
       "    <tr>\n",
       "      <th>0</th>\n",
       "      <td>CountV</td>\n",
       "      <td>0.030589</td>\n",
       "    </tr>\n",
       "    <tr>\n",
       "      <th>1</th>\n",
       "      <td>CountV_Trigram</td>\n",
       "      <td>0.033660</td>\n",
       "    </tr>\n",
       "    <tr>\n",
       "      <th>2</th>\n",
       "      <td>TfidV</td>\n",
       "      <td>0.030556</td>\n",
       "    </tr>\n",
       "  </tbody>\n",
       "</table>\n",
       "</div>"
      ],
      "text/plain": [
       "           Modelo       MSE\n",
       "0          CountV  0.030589\n",
       "1  CountV_Trigram  0.033660\n",
       "2           TfidV  0.030556"
      ]
     },
     "execution_count": 40,
     "metadata": {},
     "output_type": "execute_result"
    }
   ],
   "source": [
    "# Celda 5\n",
    "import matplotlib.pyplot as plt\n",
    "\n",
    "# Gráfica de comparación de desempeño\n",
    "plt.bar(['CountV', 'CountV_Trigram' ,'TfidV'], [mse1,mse, msetfid])\n",
    "plt.ylabel('MAE')\n",
    "plt.title('Comparación de desempeño de modelos')\n",
    "plt.xticks(rotation = 60)\n",
    "# Add data labels to each bar\n",
    "for i, v in enumerate([mse1,mse, msetfid]):\n",
    "    plt.text(i, v, str(round(v, 6)), ha='center', va='bottom')\n",
    "plt.show()\n",
    "\n",
    "# Dataframe de comparación de desempeño\n",
    "df1 = pd.DataFrame({'Modelo': ['CountV', 'CountV_Trigram' ,'TfidV'], 'MSE': [mse1,mse, msetfid]})\n",
    "df1\n"
   ]
  },
  {
   "attachments": {},
   "cell_type": "markdown",
   "metadata": {},
   "source": [
    "El mejor desempeño en terminos de MAE fue el modelo con TfidfVectorizer con 0.30556 pero efectivamente el procesamiento del lenguaje en este modelo al ser más enfocado en contar las frecuencias de tokens/palabras logra ser un poco más preciso versus CountVectorizer. Hay que notar que grandes bases de data puede tomar bastante tiempo de computación por lo que también saber calibrar los parametros de la mejor manera haria que se logren mejores resultados especialmente con el modelo de CountVectorizer con trigramas. "
   ]
  }
 ],
 "metadata": {
  "kernelspec": {
   "display_name": "Python 3 (ipykernel)",
   "language": "python",
   "name": "python3"
  },
  "language_info": {
   "codemirror_mode": {
    "name": "ipython",
    "version": 3
   },
   "file_extension": ".py",
   "mimetype": "text/x-python",
   "name": "python",
   "nbconvert_exporter": "python",
   "pygments_lexer": "ipython3",
   "version": "3.10.7"
  },
  "name": "_merged"
 },
 "nbformat": 4,
 "nbformat_minor": 4
}
