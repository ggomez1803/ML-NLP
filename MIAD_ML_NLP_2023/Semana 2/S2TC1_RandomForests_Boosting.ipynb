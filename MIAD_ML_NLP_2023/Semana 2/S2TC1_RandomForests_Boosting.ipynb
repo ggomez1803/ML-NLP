{
 "cells": [
  {
   "cell_type": "markdown",
   "metadata": {},
   "source": [
    "![image info](https://raw.githubusercontent.com/albahnsen/MIAD_ML_and_NLP/main/images/banner_1.png)"
   ]
  },
  {
   "cell_type": "markdown",
   "metadata": {},
   "source": [
    "# Taller: Construcción e implementación de modelos Bagging, Random Forest y XGBoost\n",
    "\n",
    "En este taller podrán poner en práctica sus conocimientos sobre la construcción e implementación de modelos de Bagging, Random Forest y XGBoost. El taller está constituido por 8 puntos, en los cuales deberan seguir las intrucciones de cada numeral para su desarrollo."
   ]
  },
  {
   "cell_type": "markdown",
   "metadata": {},
   "source": [
    "## Datos predicción precio de automóviles\n",
    "\n",
    "En este taller se usará el conjunto de datos de Car Listings de Kaggle donde cada observación representa el precio de un automóvil teniendo en cuenta distintas variables como año, marca, modelo, entre otras. El objetivo es predecir el precio del automóvil. Para más detalles puede visitar el siguiente enlace: [datos](https://www.kaggle.com/jpayne/852k-used-car-listings)."
   ]
  },
  {
   "cell_type": "code",
   "execution_count": 17,
   "metadata": {},
   "outputs": [],
   "source": [
    "import warnings\n",
    "warnings.filterwarnings('ignore')"
   ]
  },
  {
   "cell_type": "code",
   "execution_count": 18,
   "metadata": {},
   "outputs": [
    {
     "data": {
      "text/html": [
       "<div>\n",
       "<style scoped>\n",
       "    .dataframe tbody tr th:only-of-type {\n",
       "        vertical-align: middle;\n",
       "    }\n",
       "\n",
       "    .dataframe tbody tr th {\n",
       "        vertical-align: top;\n",
       "    }\n",
       "\n",
       "    .dataframe thead th {\n",
       "        text-align: right;\n",
       "    }\n",
       "</style>\n",
       "<table border=\"1\" class=\"dataframe\">\n",
       "  <thead>\n",
       "    <tr style=\"text-align: right;\">\n",
       "      <th></th>\n",
       "      <th>Price</th>\n",
       "      <th>Year</th>\n",
       "      <th>Mileage</th>\n",
       "      <th>M_Camry</th>\n",
       "      <th>M_Camry4dr</th>\n",
       "      <th>M_CamryBase</th>\n",
       "      <th>M_CamryL</th>\n",
       "      <th>M_CamryLE</th>\n",
       "      <th>M_CamrySE</th>\n",
       "      <th>M_CamryXLE</th>\n",
       "    </tr>\n",
       "  </thead>\n",
       "  <tbody>\n",
       "    <tr>\n",
       "      <th>7</th>\n",
       "      <td>21995</td>\n",
       "      <td>2014</td>\n",
       "      <td>6480</td>\n",
       "      <td>False</td>\n",
       "      <td>False</td>\n",
       "      <td>False</td>\n",
       "      <td>True</td>\n",
       "      <td>False</td>\n",
       "      <td>False</td>\n",
       "      <td>False</td>\n",
       "    </tr>\n",
       "    <tr>\n",
       "      <th>11</th>\n",
       "      <td>13995</td>\n",
       "      <td>2014</td>\n",
       "      <td>39972</td>\n",
       "      <td>False</td>\n",
       "      <td>False</td>\n",
       "      <td>False</td>\n",
       "      <td>False</td>\n",
       "      <td>True</td>\n",
       "      <td>False</td>\n",
       "      <td>False</td>\n",
       "    </tr>\n",
       "    <tr>\n",
       "      <th>167</th>\n",
       "      <td>17941</td>\n",
       "      <td>2016</td>\n",
       "      <td>18989</td>\n",
       "      <td>False</td>\n",
       "      <td>False</td>\n",
       "      <td>False</td>\n",
       "      <td>False</td>\n",
       "      <td>False</td>\n",
       "      <td>True</td>\n",
       "      <td>False</td>\n",
       "    </tr>\n",
       "    <tr>\n",
       "      <th>225</th>\n",
       "      <td>12493</td>\n",
       "      <td>2014</td>\n",
       "      <td>51330</td>\n",
       "      <td>False</td>\n",
       "      <td>False</td>\n",
       "      <td>False</td>\n",
       "      <td>True</td>\n",
       "      <td>False</td>\n",
       "      <td>False</td>\n",
       "      <td>False</td>\n",
       "    </tr>\n",
       "    <tr>\n",
       "      <th>270</th>\n",
       "      <td>7994</td>\n",
       "      <td>2007</td>\n",
       "      <td>116065</td>\n",
       "      <td>False</td>\n",
       "      <td>True</td>\n",
       "      <td>False</td>\n",
       "      <td>False</td>\n",
       "      <td>False</td>\n",
       "      <td>False</td>\n",
       "      <td>False</td>\n",
       "    </tr>\n",
       "  </tbody>\n",
       "</table>\n",
       "</div>"
      ],
      "text/plain": [
       "     Price  Year  Mileage  M_Camry  ...  M_CamryL  M_CamryLE  M_CamrySE  M_CamryXLE\n",
       "7    21995  2014     6480    False  ...      True      False      False       False\n",
       "11   13995  2014    39972    False  ...     False       True      False       False\n",
       "167  17941  2016    18989    False  ...     False      False       True       False\n",
       "225  12493  2014    51330    False  ...      True      False      False       False\n",
       "270   7994  2007   116065    False  ...     False      False      False       False\n",
       "\n",
       "[5 rows x 10 columns]"
      ]
     },
     "execution_count": 18,
     "metadata": {},
     "output_type": "execute_result"
    }
   ],
   "source": [
    "# Importación de librerías\n",
    "#matplotlib inline\n",
    "import pandas as pd\n",
    "import numpy as np\n",
    "from sklearn.model_selection import cross_val_score\n",
    "from sklearn.ensemble import BaggingRegressor\n",
    "from sklearn.tree import DecisionTreeRegressor\n",
    "from sklearn.ensemble import RandomForestRegressor\n",
    "from math import log\n",
    "from sklearn.tree import DecisionTreeRegressor\n",
    "from sklearn.model_selection import KFold\n",
    "from sklearn.metrics import mean_squared_error, mean_absolute_error\n",
    "\n",
    "# Lectura de la información de archivo .csv\n",
    "#data = pd.read_csv('https://raw.githubusercontent.com/albahnsen/MIAD_ML_and_NLP/main/datasets/dataTrain_carListings.zip')\n",
    "data = pd.read_csv('../datasets/dataTrain_carListings.zip')\n",
    "\n",
    "# Preprocesamiento de datos para el taller\n",
    "data = data.loc[data['Model'].str.contains('Camry')].drop(['Make', 'State'], axis=1)\n",
    "data = data.join(pd.get_dummies(data['Model'], prefix='M'))\n",
    "data = data.drop(['Model'], axis=1)\n",
    "\n",
    "# Visualización dataset\n",
    "data.head()"
   ]
  },
  {
   "cell_type": "code",
   "execution_count": 19,
   "metadata": {},
   "outputs": [],
   "source": [
    "# Separación de variables predictoras (X) y variable de interés (y)\n",
    "y = data['Price']\n",
    "X = data.drop(['Price'], axis=1)"
   ]
  },
  {
   "cell_type": "code",
   "execution_count": 20,
   "metadata": {},
   "outputs": [],
   "source": [
    "# Separación de datos en set de entrenamiento y test\n",
    "from sklearn.model_selection import train_test_split\n",
    "X_train, X_test, y_train, y_test = train_test_split(X, y, test_size=0.33, random_state=42)"
   ]
  },
  {
   "cell_type": "markdown",
   "metadata": {},
   "source": [
    "### Punto 1 - Árbol de decisión manual\n",
    "\n",
    "En la celda 1 creen un árbol de decisión **manualmente**  que considere los set de entrenamiento y test definidos anteriormente y presenten el RMSE y MAE del modelo en el set de test."
   ]
  },
  {
   "attachments": {},
   "cell_type": "markdown",
   "metadata": {},
   "source": [
    "#### Funciones"
   ]
  },
  {
   "cell_type": "code",
   "execution_count": 21,
   "metadata": {},
   "outputs": [],
   "source": [
    "# Celda 1\n",
    "#Definición de función para calcular el MAE\n",
    "def MAE_calculation(y_test, y_pred):\n",
    "    mae = np.mean(np.abs(y_test - y_pred))\n",
    "    return mae\n",
    "\n",
    "#Definición de función para calcular el MSE\n",
    "def MSE_calculation(y_true, y_pred):\n",
    "    return np.mean(np.square(y_true - y_pred))\n",
    "    \n",
    "# Definición de la función best_split_reg para calcular cuál es la mejor variable y punto de corte para hacer la bifurcación del árbol en problemas de regresión\n",
    "def best_split_reg(X, y, num_pct):\n",
    "    \n",
    "    # Obtener los percentiles\n",
    "    percentiles = np.percentile(X, np.arange(0, 100, 100/(num_pct+1))).tolist()\n",
    "    \n",
    "    # Agregar los extremos\n",
    "    percentiles = [-np.inf] + percentiles + [np.inf]\n",
    "    \n",
    "    # Inicializar los valores\n",
    "    best_j, best_split, best_gain = None, None, np.inf\n",
    "    \n",
    "    # Recorrer todas las combinaciones de j y split\n",
    "    for j in range(X.shape[1]):\n",
    "        for split in percentiles:\n",
    "            y_l, y_r = y[X.iloc[:, j] < split], y[X.iloc[:, j] >= split]\n",
    "            if y_l.shape[0] > 0 and y_r.shape[0] > 0:\n",
    "                y_mean_l, y_mean_r = y_l.mean(), y_r.mean()\n",
    "                gain = ((y_l - y_mean_l)**2).sum() + ((y_r - y_mean_r)**2).sum()\n",
    "                if gain < best_gain:\n",
    "                    best_j, best_split, best_gain = j, split, gain\n",
    "    \n",
    "    return best_j, best_split, best_gain\n",
    "\n",
    "\n",
    "#Definición de función para calibrar la profundidad del árbol\n",
    "def calibrate_max_depth(num_folds, max_depth_values, X, y):\n",
    "    kf = KFold(n_splits=num_folds, shuffle=True, random_state=42)\n",
    "    result = []\n",
    "    for max_depth in max_depth_values:\n",
    "        mse_fold = []\n",
    "        for train_index, val_index in kf.split(X):\n",
    "            X_train, X_val = X.iloc[train_index], X.iloc[val_index]\n",
    "            y_train, y_val = y.iloc[train_index], y.iloc[val_index]\n",
    "            tree = tree_grow(X_train, y_train, max_depth=max_depth)\n",
    "            y_pred = tree_predict(X_val, tree)\n",
    "            mse_fold.append(np.mean((y_val - y_pred)**2))\n",
    "        result.append([max_depth, np.mean(mse_fold)])\n",
    "    result = np.array(result)\n",
    "    optimal_max_depth = result[np.argmin(result[:,1]),0]\n",
    "    return optimal_max_depth\n",
    "\n",
    "\n",
    "# Definición de la función tree_grow para hacer un crecimiento recursivo del árbol\n",
    "def tree_grow(X, y, level=0, min_gain=0.001, max_depth=None, num_pct=10):\n",
    "    \n",
    "    # Si solo es una observación\n",
    "    if X.shape[0] == 1:\n",
    "        tree = dict(y_pred=y.iloc[:1].values[0], y_std=0, level=level, split=-1, n_samples=1, gain=0)\n",
    "        return tree\n",
    "    \n",
    "    # Calcular la mejor división\n",
    "    j, split, gain = best_split_reg(X, y, num_pct)\n",
    "    \n",
    "    # Guardar el árbol y estimar la predicción\n",
    "    y_pred = y.mean() \n",
    "    y_std = y.std()\n",
    "    \n",
    "    tree = dict(y_pred=y_pred, y_std=y_std, level=level, split=-1, n_samples=X.shape[0], gain=gain)\n",
    "    # Revisar el criterio de parada \n",
    "    if gain < min_gain:\n",
    "        return tree\n",
    "    if max_depth is not None:\n",
    "        if level >= max_depth:\n",
    "            return tree   \n",
    "    \n",
    "    # Continuar creando la partición\n",
    "    filter_l = X.iloc[:, j] < split\n",
    "    X_l, y_l = X.loc[filter_l], y.loc[filter_l]\n",
    "    X_r, y_r = X.loc[~filter_l], y.loc[~filter_l]\n",
    "    tree['split'] = [j, split]\n",
    "    # Siguiente iteración para cada partición\n",
    "    \n",
    "    tree['sl'] = tree_grow(X_l, y_l, level + 1, min_gain=min_gain, max_depth=max_depth, num_pct=num_pct)\n",
    "    tree['sr'] = tree_grow(X_r, y_r, level + 1, min_gain=min_gain, max_depth=max_depth, num_pct=num_pct)\n",
    "    \n",
    "    return tree\n",
    "# Definición de la función tree_predict para hacer predicciones según las variables 'X' y el árbol 'tree'\n",
    "def tree_predict(X, tree, proba=False):\n",
    "    \n",
    "    predicted = np.ones(X.shape[0])\n",
    "    # Revisar si es el nodo final\n",
    "    if tree['split'] == -1:\n",
    "        if not proba:\n",
    "            predicted = predicted * tree['y_pred']\n",
    "        else:\n",
    "            predicted = predicted * tree['y_prob']\n",
    "            \n",
    "    else:\n",
    "        \n",
    "        j, split = tree['split']\n",
    "        filter_l = (X.iloc[:, j] < split)\n",
    "        X_l = X.loc[filter_l]\n",
    "        X_r = X.loc[~filter_l]\n",
    "        if X_l.shape[0] == 0:  # Si el nodo izquierdo está vacio solo continua con el derecho \n",
    "            predicted[~filter_l] = tree_predict(X_r, tree['sr'], proba)\n",
    "        elif X_r.shape[0] == 0:  #  Si el nodo derecho está vacio solo continua con el izquierdo\n",
    "            predicted[filter_l] = tree_predict(X_l, tree['sl'], proba)\n",
    "        else:\n",
    "            predicted[filter_l] = tree_predict(X_l, tree['sl'], proba)\n",
    "            predicted[~filter_l] = tree_predict(X_r, tree['sr'], proba)\n",
    "    return predicted"
   ]
  },
  {
   "attachments": {},
   "cell_type": "markdown",
   "metadata": {},
   "source": [
    "#### Ejecución del modelo"
   ]
  },
  {
   "cell_type": "code",
   "execution_count": 22,
   "metadata": {},
   "outputs": [
    {
     "name": "stdout",
     "output_type": "stream",
     "text": [
      "RMSE:  2108.2214431762013\n",
      "MAE:  1610.1665629744748\n"
     ]
    }
   ],
   "source": [
    "num_folds = 10\n",
    "max_depth_values = range(1,6)\n",
    "best_max_depth = calibrate_max_depth(num_folds, max_depth_values, X_train, y_train)\n",
    "tree = tree_grow(X_train, y_train, max_depth=best_max_depth)\n",
    "y_pred = tree_predict(X_test, tree)\n",
    "RMSE = MSE_calculation(y_test, y_pred)**0.5\n",
    "MAE = MAE_calculation(y_test, y_pred)\n",
    "print('RMSE: ', RMSE)\n",
    "print('MAE: ', MAE)"
   ]
  },
  {
   "cell_type": "markdown",
   "metadata": {},
   "source": [
    "### Punto 2 - Bagging manual\n",
    "\n",
    "En la celda 2 creen un modelo bagging **manualmente** con 10 árboles de regresión y comenten sobre el desempeño del modelo."
   ]
  },
  {
   "cell_type": "code",
   "execution_count": 23,
   "metadata": {},
   "outputs": [
    {
     "name": "stdout",
     "output_type": "stream",
     "text": [
      "RMSE 1796.4355868399332\n",
      "MAE: 1340.0160739030025\n"
     ]
    }
   ],
   "source": [
    "# Celda 2\n",
    "# Creación de 10 muestras de bootstrap\n",
    "np.random.seed(123)\n",
    "\n",
    "n_samples = X_train.shape[0]\n",
    "n_B = 10\n",
    "\n",
    "samples = [np.random.choice(a=n_samples, size=n_samples, replace=True) for _ in range(1, n_B +1 )]\n",
    "\n",
    "# Construcción un árbol de decisión para cada muestra boostrap\n",
    "# Definición del modelo usando DecisionTreeRegressor de sklearn\n",
    "treereg = DecisionTreeRegressor(max_depth=None, random_state=123)\n",
    "\n",
    "# DataFrame para guardar las predicciones de cada árbol\n",
    "y_pred = pd.DataFrame(index=y_test.index, columns=[list(range(n_B))])\n",
    "\n",
    "# Entrenamiento de un árbol sobre cada muestra boostrap y predicción sobre los datos de test\n",
    "for i, sample in enumerate(samples):\n",
    "    X_trainb = X_train.iloc[sample, :]\n",
    "    y_trainb = y_train.iloc[sample]\n",
    "    treereg.fit(X_trainb, y_trainb)\n",
    "    y_pred.iloc[:,i] = treereg.predict(X_test)\n",
    "    \n",
    "y_pred=y_pred.mean(axis=1)\n",
    "\n",
    "RMSE = MSE_calculation(y_test, y_pred)**0.5\n",
    "MAE = MAE_calculation(y_test, y_pred)\n",
    "print('RMSE: ', RMSE)\n",
    "print('MAE: ', MAE)"
   ]
  },
  {
   "attachments": {},
   "cell_type": "markdown",
   "metadata": {},
   "source": [
    "Con un RMSE de 1796.43 y un MAE de 1340.016, podemos decir que el modelo bagging de 10 árboles de regresión tiene un desempeño aceptable para predecir el precio de los automóviles. El MAE indica que el modelo, en promedio, se desvía en 1340.016 unidades del precio real, mientras que el RMSE indica que la dispersión de los errores de predicción es de 1796.43 unidades en promedio.\n",
    "\n",
    "Además, si se compara con el modelo de árboles manual, logra un mejor rendimiento pues tanto RMSE como MAE son menores para el modelo de bagging."
   ]
  },
  {
   "cell_type": "markdown",
   "metadata": {},
   "source": [
    "### Punto 3 - Bagging con librería\n",
    "\n",
    "En la celda 3, con la librería sklearn, entrenen un modelo bagging con 10 árboles de regresión y el parámetro `max_features` igual a `log(n_features)` y comenten sobre el desempeño del modelo."
   ]
  },
  {
   "cell_type": "code",
   "execution_count": 24,
   "metadata": {},
   "outputs": [
    {
     "name": "stdout",
     "output_type": "stream",
     "text": [
      "RMSE 2526.318122407954\n",
      "MAE: 1949.164880551567\n"
     ]
    }
   ],
   "source": [
    "# Celda 3\n",
    "\n",
    "max_features = int(log(X_train.shape[1]))\n",
    "tree_reg = DecisionTreeRegressor()\n",
    "bag_reg = BaggingRegressor(base_estimator=tree_reg, n_estimators=10, max_features=max_features)\n",
    "bag_reg.fit(X_train, y_train)\n",
    "y_pred = bag_reg.predict(X_test)\n",
    "\n",
    "RMSE = MSE_calculation(y_test, y_pred)**0.5\n",
    "MAE = MAE_calculation(y_test, y_pred)\n",
    "print('RMSE: ', RMSE)\n",
    "print('MAE: ', MAE)"
   ]
  },
  {
   "attachments": {},
   "cell_type": "markdown",
   "metadata": {},
   "source": [
    "Comparando los resultados del segundo modelo con los del primer modelo, podemos observar que el RMSE y el MAE del segundo modelo son mayores que los del primer modelo. Esto puede indicar que el segundo modelo tiene un desempeño inferior para predecir el precio de los automóviles.\n",
    "\n",
    "El hecho de que el segundo modelo haya utilizado el logaritmo del número total de features como valor para el parámetro max_features puede indicar que se intentó reducir la complejidad del modelo al limitar el número de features considerados en cada árbol de regresión. Sin embargo, es importante señalar que la selección del valor adecuado para este parámetro puede ser un proceso complejo y debe basarse en la exploración de diferentes opciones y técnicas de validación."
   ]
  },
  {
   "cell_type": "markdown",
   "metadata": {},
   "source": [
    "### Punto 4 - Random forest con librería\n",
    "\n",
    "En la celda 4, usando la librería sklearn entrenen un modelo de Randon Forest para regresión  y comenten sobre el desempeño del modelo."
   ]
  },
  {
   "cell_type": "code",
   "execution_count": 25,
   "metadata": {},
   "outputs": [
    {
     "name": "stdout",
     "output_type": "stream",
     "text": [
      "RMSE 1758.1086780656174\n",
      "MAE: 1309.794721197602\n"
     ]
    }
   ],
   "source": [
    "# Celda 4\n",
    "rf_reg = RandomForestRegressor()\n",
    "rf_reg.fit(X_train, y_train)\n",
    "y_pred = rf_reg.predict(X_test)\n",
    "\n",
    "RMSE = MSE_calculation(y_test, y_pred)**0.5\n",
    "MAE = MAE_calculation(y_test, y_pred)\n",
    "print('RMSE: ', RMSE)\n",
    "print('MAE: ', MAE)"
   ]
  },
  {
   "cell_type": "markdown",
   "metadata": {},
   "source": [
    "### Punto 5 - Calibración de parámetros Random forest\n",
    "\n",
    "En la celda 5, calibren los parámetros max_depth, max_features y n_estimators del modelo de Randon Forest para regresión, comenten sobre el desempeño del modelo y describan cómo cada parámetro afecta el desempeño del modelo."
   ]
  },
  {
   "cell_type": "code",
   "execution_count": null,
   "metadata": {},
   "outputs": [],
   "source": [
    "import matplotlib.pyplot as plt\n",
    "import seaborn as sns\n",
    "# Parámetros para calibrar\n",
    "parameters = ['n_estimators', 'max_features', 'max_depth']\n",
    "\n",
    "# Lista de valores para cada parámetro\n",
    "n_estimators = range(10, 310, 10)\n",
    "max_features = range(1, X_train.shape[1]+1)\n",
    "max_depth = range(1,21)\n",
    "values = [n_estimators, max_features, max_depth]\n",
    "\n",
    "# Diccionario para parámetros y sus valores\n",
    "param_grid = dict(zip(parameters, values))\n",
    "\n",
    "# Lista para guardar los valores de RMSE para cada combinación de parámetros\n",
    "rmse_scores = []\n",
    "\n",
    "# Calibración de parámetros\n",
    "for n_estimators in param_grid['n_estimators']:\n",
    "    for max_features in param_grid['max_features']:\n",
    "        for max_depth in param_grid['max_depth']:\n",
    "            rf_reg = RandomForestRegressor(n_estimators=n_estimators, max_features=max_features, max_depth=max_depth, random_state=1, n_jobs=-1)\n",
    "            rf_reg.fit(X_train, y_train)\n",
    "            y_pred = rf_reg.predict(X_test)\n",
    "            rmse_scores.append(np.sqrt(mean_squared_error(y_pred, y_test)))\n",
    "\n",
    "# Creación de un DataFrame con los valores de RMSE para cada combinación de parámetros\n",
    "rmse_df = pd.DataFrame(rmse_scores, columns=['RMSE'])\n",
    "rmse_df['n_estimators'] = np.repeat(param_grid['n_estimators'], len(param_grid['max_features'])*len(param_grid['max_depth']))\n",
    "rmse_df['max_features'] = np.tile(np.repeat(param_grid['max_features'], len(param_grid['max_depth'])), len(param_grid['n_estimators']))\n",
    "rmse_df['max_depth'] = np.tile(param_grid['max_depth'], len(param_grid['n_estimators'])*len(param_grid['max_features']))\n",
    "\n",
    "# Gráfico de RMSE vs. n_estimators\n",
    "fig, ax = plt.subplots(figsize=(10, 6))\n",
    "sns.lineplot(x='n_estimators', y='RMSE', data=rmse_df, ax=ax)\n",
    "ax.set_title('RMSE vs. n_estimators')\n",
    "ax.set_xlabel('n_estimators')\n",
    "ax.set_ylabel('RMSE')\n",
    "plt.show()\n",
    "\n",
    "# Gráfico de RMSE vs. max_features\n",
    "fig, ax = plt.subplots(figsize=(10, 6))\n",
    "sns.lineplot(x='max_features', y='RMSE', data=rmse_df, ax=ax)\n",
    "ax.set_title('RMSE vs. max_features')\n",
    "ax.set_xlabel('max_features')\n",
    "ax.set_ylabel('RMSE')\n",
    "plt.show()\n",
    "\n",
    "# Gráfico de RMSE vs. max_depth\n",
    "fig, ax = plt.subplots(figsize=(10, 6))\n",
    "sns.lineplot(x='max_depth', y='RMSE', data=rmse_df, ax=ax)\n",
    "ax.set_title('RMSE vs. max_depth')\n",
    "ax.set_xlabel('max_depth')\n",
    "ax.set_ylabel('RMSE')\n",
    "plt.show()"
   ]
  },
  {
   "cell_type": "code",
   "execution_count": 26,
   "metadata": {},
   "outputs": [
    {
     "data": {
      "image/png": "[encoded data removed]",
      "text/plain": [
       "<Figure size 640x480 with 1 Axes>"
      ]
     },
     "metadata": {},
     "output_type": "display_data"
    },
    {
     "name": "stdout",
     "output_type": "stream",
     "text": [
      "El menor RMSE se alcanza con: 120 estimadores y es igual a 1755.3655840329534\n"
     ]
    },
    {
     "data": {
      "image/png": "[encoded data removed]",
      "text/plain": [
       "<Figure size 640x480 with 1 Axes>"
      ]
     },
     "metadata": {},
     "output_type": "display_data"
    },
    {
     "name": "stdout",
     "output_type": "stream",
     "text": [
      "El menor RMSE se alcanza con: 9 features y es igual a 1755.3655840329534\n"
     ]
    }
   ],
   "source": [
    "# Celda 5\n",
    "import matplotlib.pyplot as plt\n",
    "\n",
    "# Función para encontrar el mínimo de una lista\n",
    "def find_min(scores, range, parameter):\n",
    "    min_index = np.argmin(scores)\n",
    "    print(f'El menor RMSE se alcanza con: {range[min_index]} {parameter} y es igual a {min(scores)}')\n",
    "    return min_index, scores[min_index]\n",
    "\n",
    "# Parámetros para calibrar\n",
    "# Lista de valores para cada parámetro\n",
    "n_estimators = range(10, 310, 10)\n",
    "max_features = range(1, X_train.shape[1]+1)\n",
    "max_depth = range(1,21)\n",
    "\n",
    "# Lista para guardar los valores de RMSE para cada combinación de parámetros\n",
    "rmse_scores_estimators = []\n",
    "rmse_scores_features = []\n",
    "rmse_scores_depth = []\n",
    "\n",
    "# Calibración de los estimadores\n",
    "for estimators in n_estimators:\n",
    "    rf_reg = RandomForestRegressor(n_estimators=estimators, random_state=1, n_jobs=-1)\n",
    "    rf_reg.fit(X_train, y_train)\n",
    "    y_pred = rf_reg.predict(X_test)\n",
    "    rmse_scores_estimators.append(np.sqrt(mean_squared_error(y_pred, y_test)))\n",
    "\n",
    "min_index, rmse_est_calib = find_min(rmse_scores_estimators, n_estimators, 'n_estimators')\n",
    "max_estimators = n_estimators[min_index]\n",
    "\n",
    "# Calibración de los features\n",
    "for feature in max_features:\n",
    "    rf_reg = RandomForestRegressor(n_estimators=max_estimators, max_features=feature, random_state=1, n_jobs=-1)\n",
    "    rf_reg.fit(X_train, y_train)\n",
    "    y_pred = rf_reg.predict(X_test)\n",
    "    rmse_scores_features.append(np.sqrt(mean_squared_error(y_pred, y_test)))\n",
    "\n",
    "min_index, rmse_feat_calib = find_min(rmse_scores_features, max_features, 'max_features')\n",
    "max_features_calib = max_features[min_index]\n",
    "\n",
    "# Calibración de la profundidad\n",
    "for depth in max_depth:\n",
    "    rf_reg = RandomForestRegressor(n_estimators=max_estimators, max_features=max_features_calib, max_depth=depth, random_state=1, n_jobs=-1)\n",
    "    rf_reg.fit(X_train, y_train)\n",
    "    y_pred = rf_reg.predict(X_test)\n",
    "    rmse_scores_depth.append(np.sqrt(mean_squared_error(y_pred, y_test)))\n",
    "\n",
    "min_index, rmse_depth_calib = find_min(rmse_scores_depth, max_depth, 'max_depth')\n",
    "max_depth_calib = max_depth[min_index]\n",
    "\n",
    "print(f'El menor RMSE se alcanza con: {max_estimators} n_estimators, {max_features_calib} max_features y {max_depth_calib} max_depth y es igual a {rmse_depth_calib}')\n",
    "\n",
    "# Gráficas\n",
    "plt.plot(n_estimators, rmse_scores_estimators)\n",
    "plt.xlabel('n_estimators')\n",
    "plt.ylabel('RMSE')\n",
    "plt.title('Calibración de parámetro n_estimators')\n",
    "plt.show()\n",
    "\n",
    "plt.plot(max_features, rmse_scores_features)\n",
    "plt.xlabel('max_features')\n",
    "plt.ylabel('RMSE')\n",
    "plt.title('Calibración de parámetro max_features')\n",
    "plt.show()\n",
    "\n",
    "plt.plot(max_depth, rmse_scores_depth)\n",
    "plt.xlabel('max_depth')\n",
    "plt.ylabel('RMSE')\n",
    "plt.title('Calibración de parámetro max_depth')\n",
    "plt.show()"
   ]
  },
  {
   "cell_type": "markdown",
   "metadata": {},
   "source": [
    "### Punto 6 - XGBoost con librería\n",
    "\n",
    "En la celda 6 implementen un modelo XGBoost de regresión con la librería sklearn y comenten sobre el desempeño del modelo."
   ]
  },
  {
   "cell_type": "code",
   "execution_count": 28,
   "metadata": {},
   "outputs": [
    {
     "name": "stdout",
     "output_type": "stream",
     "text": [
      "MSE:  2629001.844928506\n",
      "R2 score:  0.8281265175296673\n"
     ]
    }
   ],
   "source": [
    "# Celda 6\n",
    "# Importación y definición de modelo XGBRegressor\n",
    "from xgboost import XGBRegressor\n",
    "from sklearn.metrics import mean_squared_error, r2_score\n",
    "\n",
    "clf = XGBRegressor()\n",
    "\n",
    "# Entrenamiento (fit) y desempeño del modelo XGBRegressor\n",
    "clf.fit(X_train, y_train)\n",
    "y_pred = clf.predict(X_test)\n",
    "\n",
    "# Evaluar el desempeño del modelo utilizando el error cuadrático medio (MSE) y el coeficiente de determinación (R2)\n",
    "mse = mean_squared_error(y_test, y_pred)\n",
    "r2 = r2_score(y_test, y_pred)\n",
    "\n",
    "print(\"MSE: \", mse)\n",
    "print(\"R2 score: \", r2)"
   ]
  },
  {
   "cell_type": "markdown",
   "metadata": {},
   "source": [
    "### Punto 7 - Calibración de parámetros XGBoost\n",
    "\n",
    "En la celda 7 calibren los parámetros learning rate, gamma y colsample_bytree del modelo XGBoost para regresión, comenten sobre el desempeño del modelo y describan cómo cada parámetro afecta el desempeño del modelo."
   ]
  },
  {
   "cell_type": "code",
   "execution_count": 29,
   "metadata": {},
   "outputs": [
    {
     "name": "stdout",
     "output_type": "stream",
     "text": [
      "MSE:  2401426.5145130632\n",
      "R2 score:  0.8430044700264646\n"
     ]
    }
   ],
   "source": [
    "# Celda 7\n",
    "from xgboost import XGBRegressor\n",
    "from sklearn.model_selection import GridSearchCV\n",
    "\n",
    "# Definir los valores posibles para cada parámetro\n",
    "param_grid = {\n",
    "    'learning_rate': [0.1, 0.01, 0.001],\n",
    "    'gamma': [0.1, 0.01, 0.001],\n",
    "    'colsample_bytree': [0.5, 0.7, 0.9]\n",
    "}\n",
    "\n",
    "# Crear una instancia del modelo XGBRegressor\n",
    "clf = XGBRegressor()\n",
    "\n",
    "# Realizar la búsqueda de cuadrícula con validación cruzada\n",
    "grid_search = GridSearchCV(clf, param_grid=param_grid, cv=5, n_jobs=-1, scoring='neg_mean_squared_error')\n",
    "grid_search.fit(X_train, y_train)\n",
    "\n",
    "# Obtener los mejores valores de los parámetros\n",
    "best_params = grid_search.best_params_\n",
    "\n",
    "# Entrenar el modelo con los mejores valores de los parámetros\n",
    "clf = XGBRegressor(**best_params)\n",
    "clf.fit(X_train, y_train)\n",
    "\n",
    "# Realizar predicciones sobre los datos de prueba\n",
    "y_pred = clf.predict(X_test)\n",
    "\n",
    "# Evaluar el desempeño del modelo utilizando el error cuadrático medio (MSE) y el coeficiente de determinación (R2)\n",
    "mse = mean_squared_error(y_test, y_pred)\n",
    "r2 = r2_score(y_test, y_pred)\n",
    "\n",
    "print(\"MSE: \", mse)\n",
    "print(\"R2 score: \", r2)"
   ]
  },
  {
   "attachments": {},
   "cell_type": "markdown",
   "metadata": {},
   "source": [
    "learning rate: Este parámetro controla la tasa de aprendizaje del modelo y se utiliza para reducir la contribución de cada árbol en el modelo. Un valor más bajo de learning rate puede hacer que el modelo tenga una mejor generalización, pero a costa de una mayor cantidad de árboles necesarios para obtener una precisión similar. Un valor demasiado alto puede hacer que el modelo tenga un sobreajuste y una precisión insuficiente. Es recomendable probar varios valores para encontrar el óptimo.\n",
    "\n",
    "gamma: Este parámetro controla la reducción de la función de pérdida requerida para hacer una partición adicional en un nodo de un árbol. Un valor más alto de gamma hace que el modelo sea más conservador y se detenga antes de hacer particiones innecesarias, lo que puede ayudar a prevenir el sobreajuste. Sin embargo, un valor demasiado alto también puede hacer que el modelo no capture suficientes detalles importantes en los datos, lo que puede disminuir la precisión.\n",
    "\n",
    "colsample_bytree: Este parámetro controla la proporción de características utilizadas por cada árbol. Un valor más bajo de colsample_bytree puede reducir el sobreajuste y hacer que el modelo tenga una mejor generalización, pero a costa de una menor capacidad para capturar detalles importantes en los datos. Un valor demasiado alto puede hacer que el modelo tenga un sobreajuste y una precisión insuficiente."
   ]
  },
  {
   "cell_type": "markdown",
   "metadata": {},
   "source": [
    "### Punto 8 - Comparación y análisis de resultados\n",
    "En la celda 8 comparen los resultados obtenidos de los diferentes modelos (random forest y XGBoost) y comenten las ventajas del mejor modelo y las desventajas del modelo con el menor desempeño."
   ]
  },
  {
   "cell_type": "code",
   "execution_count": null,
   "metadata": {},
   "outputs": [],
   "source": [
    "# Celda 8\n"
   ]
  }
 ],
 "metadata": {
  "kernelspec": {
   "display_name": "Python 3 (ipykernel)",
   "language": "python",
   "name": "python3"
  },
  "language_info": {
   "codemirror_mode": {
    "name": "ipython",
    "version": 3
   },
   "file_extension": ".py",
   "mimetype": "text/x-python",
   "name": "python",
   "nbconvert_exporter": "python",
   "pygments_lexer": "ipython3",
   "version": "3.10.7"
  }
 },
 "nbformat": 4,
 "nbformat_minor": 4
}
